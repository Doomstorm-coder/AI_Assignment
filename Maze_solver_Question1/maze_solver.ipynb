{
 "cells": [
  {
   "cell_type": "markdown",
   "id": "49f14039",
   "metadata": {},
   "source": [
    "#  Maze Solver with Turtle Graphics and A*/Greedy Algorithm\n",
    "\n",
    "This Python program uses the Turtle graphics module to **visualize a maze-solving algorithm** (either Greedy Best-First Search or A* Search). The maze is built from a text grid, and the solution path is displayed as the algorithm explores the space."
   ]
  },
  {
   "cell_type": "markdown",
   "id": "476f3878",
   "metadata": {},
   "source": [
    "##  Imports"
   ]
  },
  {
   "cell_type": "code",
   "execution_count": null,
   "id": "f65fce34",
   "metadata": {},
   "outputs": [],
   "source": [
    "import turtle\n",
    "import time\n",
    "import heapq\n",
    "\n",
    "\n",
    "- `turtle`: Used for graphical drawing.\n",
    "- `time`: (Not actively used here) Could be used for delays or timing.\n",
    "- `heapq`: Provides a priority queue for efficient search algorithms (used in A* and Greedy)."
   ]
  },
  {
   "cell_type": "markdown",
   "id": "81baa125",
   "metadata": {},
   "source": [
    "##  Screen Setup"
   ]
  },
  {
   "cell_type": "code",
   "execution_count": null,
   "id": "8eb6a513",
   "metadata": {},
   "outputs": [],
   "source": [
    "wn = turtle.Screen()\n",
    "wn.bgcolor(\"black\")\n",
    "wn.title(\"A Maze Solving Program\")\n",
    "wn.setup(1300, 700)\n",
    "\n",
    "\n",
    "- Sets up a black canvas using Turtle for drawing the maze.\n",
    "- `wn.setup()` defines the window size."
   ]
  },
  {
   "cell_type": "markdown",
   "id": "3ee7ab3b",
   "metadata": {},
   "source": [
    "##  Turtle Classes for Maze Elements\n",
    "\n",
    "These are custom Turtle objects for different parts of the maze:"
   ]
  },
  {
   "cell_type": "code",
   "execution_count": null,
   "id": "f96f39ee",
   "metadata": {},
   "outputs": [],
   "source": [
    "class Maze(turtle.Turtle):\n",
    "    def __init__(self):\n",
    "        super().__init__()\n",
    "        self.shape(\"square\")\n",
    "        self.color(\"white\")\n",
    "        self.penup()\n",
    "        self.speed(0)\n",
    "\n",
    "class Green(turtle.Turtle):\n",
    "    def __init__(self):\n",
    "        super().__init__()\n",
    "        self.shape(\"square\")\n",
    "        self.color(\"green\")\n",
    "        self.penup()\n",
    "        self.speed(0)\n",
    "\n",
    "class Blue(turtle.Turtle):\n",
    "    def __init__(self):\n",
    "        super().__init__()\n",
    "        self.shape(\"square\")\n",
    "        self.color(\"blue\")\n",
    "        self.penup()\n",
    "        self.speed(0)\n",
    "\n",
    "class Red(turtle.Turtle):\n",
    "    def __init__(self):\n",
    "        super().__init__()\n",
    "        self.shape(\"square\")\n",
    "        self.color(\"red\")\n",
    "        self.setheading(270)\n",
    "        self.penup()\n",
    "        self.speed(0)\n",
    "\n",
    "class Yellow(turtle.Turtle):\n",
    "    def __init__(self):\n",
    "        super().__init__()\n",
    "        self.shape(\"circle\")\n",
    "        self.color(\"yellow\")\n",
    "        self.penup()\n",
    "        self.speed(0)    # Goal point and final path\n",
    "    ...\n",
    "\n",
    "\n",
    "Each class defines a turtle with a shape and color appropriate for its role in the maze."
   ]
  },
  {
   "cell_type": "markdown",
   "id": "26799caa",
   "metadata": {},
   "source": [
    "##  Maze Grid Layout"
   ]
  },
  {
   "cell_type": "code",
   "execution_count": null,
   "id": "a475aaed",
   "metadata": {},
   "outputs": [],
   "source": [
    "grid1 = [\n",
    "    \"++++++++++++++++++++++++++++++++++++++++++++++\",\n",
    "    \"+ s             +                            +\",\n",
    "    \"+ +++++++++++ +++++++++++++++ ++++++++ +++++ +\",\n",
    "    \"+           +                 +        +     +\",\n",
    "    \"++ +++++++ ++++++++++++++ ++++++++++++++++++++\",\n",
    "    \"++ ++    + ++           + ++                 +\",\n",
    "    \"++ ++ ++ + ++ ++ +++++ ++ ++ +++++++++++++++ +\",\n",
    "    \"++ ++ ++ + ++ ++ +     ++ ++ ++ ++        ++ +\",\n",
    "    \"++ ++ ++++ ++ +++++++++++ ++ ++ +++++ +++ ++ +\",\n",
    "    \"++ ++   ++ ++             ++          +++ ++ +\",\n",
    "    \"++ ++++ ++ +++++++++++++++++ +++++++++++++++ +\",\n",
    "    \"++    + ++                   ++              +\",\n",
    "    \"+++++ + +++++++++++++++++++++++ ++++++++++++ +\",\n",
    "    \"++ ++ +                   ++          +++ ++ +\",\n",
    "    \"++ ++ ++++ ++++++++++++++ ++ +++++ ++ +++ ++ +\",\n",
    "    \"++ ++ ++   ++     +    ++ ++ ++    ++     ++ +\",\n",
    "    \"++ ++ ++ +++++++ +++++ ++ ++ +++++++++++++++ +\",\n",
    "    \"++                     ++ ++ ++              +\",\n",
    "    \"+++++ ++ + +++++++++++ ++ ++ ++ ++++++++++++e+\",\n",
    "    \"++++++++++++++++++++++++++++++++++++++++++++++\",\n",
    "]\n",
    "\n",
    "\n",
    "- A 2D grid where:\n",
    "  - `\"+\"` = Wall\n",
    "  - `\" \"` = Walkable path\n",
    "  - `\"s\"` = Start\n",
    "  - `\"e\"` = End (goal)"
   ]
  },
  {
   "cell_type": "markdown",
   "id": "f866a98d",
   "metadata": {},
   "source": [
    "## Heuristic Function"
   ]
  },
  {
   "cell_type": "code",
   "execution_count": null,
   "id": "28adaad7",
   "metadata": {},
   "outputs": [],
   "source": [
    "def heuristic(cell, goal):\n",
    "    x1, y1 = cell\n",
    "    x2, y2 = goal\n",
    "    return abs(x1 - x2) + abs(y1 - y2)\n",
    "\n",
    "\n",
    "- Calculates **Manhattan distance** between two points.\n",
    "- Used by Greedy and A* to estimate how far a cell is from the goal."
   ]
  },
  {
   "cell_type": "markdown",
   "id": "bce1497a",
   "metadata": {},
   "source": [
    "## Backtracking the Path"
   ]
  },
  {
   "cell_type": "code",
   "execution_count": null,
   "id": "65b43c0d",
   "metadata": {},
   "outputs": [],
   "source": [
    "def backRoute(x, y):\n",
    "    yellow.goto(x, y)\n",
    "    yellow.stamp()\n",
    "    while (x, y) != (start_x, start_y):\n",
    "        x, y = solution[x, y]\n",
    "        yellow.goto(x, y)\n",
    "        yellow.stamp()\n",
    "\n",
    "\n",
    "- Starts at the goal and **traces the path backwards** using a `solution` dictionary.\n",
    "- Marks the final path with yellow circles."
   ]
  },
  {
   "cell_type": "markdown",
   "id": "84144db3",
   "metadata": {},
   "source": [
    "## Maze-Solving Function"
   ]
  },
  {
   "cell_type": "code",
   "execution_count": null,
   "id": "397cee14",
   "metadata": {},
   "outputs": [],
   "source": [
    "def solve(algorithm=\"greedy\"):\n",
    "    frontier = []\n",
    "    heapq.heappush(frontier, (heuristic((start_x, start_y), (end_x, end_y)), 0, (start_x, start_y)))\n",
    "    solution[start_x, start_y] = None\n",
    "    costs = { (start_x, start_y): 0 }\n",
    "\n",
    "    while frontier:\n",
    "        _, g, current = heapq.heappop(frontier)\n",
    "        x, y = current\n",
    "\n",
    "        if (x, y) == (end_x, end_y):\n",
    "            backRoute(x, y)\n",
    "            return\n",
    "\n",
    "        for dx, dy in [(-24, 0), (0, -24), (24, 0), (0, 24)]:\n",
    "            neighbor = (x + dx, y + dy)\n",
    "            if neighbor in path and neighbor not in visited:\n",
    "                visited.append(neighbor)\n",
    "                solution[neighbor] = (x, y)\n",
    "                blue.goto(neighbor)\n",
    "                blue.stamp()\n",
    "\n",
    "                new_cost = costs[(x, y)] + 1\n",
    "                costs[neighbor] = new_cost\n",
    "\n",
    "                if algorithm == \"greedy\":\n",
    "                    priority = heuristic(neighbor, (end_x, end_y))\n",
    "                else:\n",
    "                    priority = new_cost + heuristic(neighbor, (end_x, end_y))\n",
    "\n",
    "                heapq.heappush(frontier, (priority, new_cost, neighbor))\n",
    "                green.goto(x, y)\n",
    "                green.stamp()\n",
    "\n",
    "\n",
    "This is the core of the program:\n",
    "- Uses a **priority queue** (via `heapq`) to choose the next best cell.\n",
    "- Supports:\n",
    "  - `greedy`: Only considers how close a cell is to the goal.\n",
    "  - `astar`: Considers both distance from start and to goal.\n",
    "- Explores neighbors in 4 directions (up, down, left, right).\n",
    "- Uses blue squares to show visited nodes and green squares to show the frontier."
   ]
  },
  {
   "cell_type": "markdown",
   "id": "8780fe5d",
   "metadata": {},
   "source": [
    "##  Maze Setup"
   ]
  },
  {
   "cell_type": "code",
   "execution_count": null,
   "id": "a822b0f3",
   "metadata": {},
   "outputs": [],
   "source": [
    "def setup_maze(grid):\n",
    "    global start_x, start_y, end_x, end_y\n",
    "    for y in range(len(grid)):\n",
    "        for x in range(len(grid[y])):\n",
    "            char = grid[y][x]\n",
    "            screen_x = -588 + (x * 24)\n",
    "            screen_y = 288 - (y * 24)\n",
    "\n",
    "            if char == \"+\":\n",
    "                maze.goto(screen_x, screen_y)\n",
    "                maze.stamp()\n",
    "                walls.append((screen_x, screen_y))\n",
    "            elif char == \" \":\n",
    "                path.append((screen_x, screen_y))\n",
    "            elif char == \"e\":\n",
    "                end_x, end_y = screen_x, screen_y\n",
    "                yellow.goto(screen_x, screen_y)\n",
    "                yellow.stamp()\n",
    "                path.append((screen_x, screen_y))\n",
    "            elif char == \"s\":\n",
    "                start_x, start_y = screen_x, screen_y\n",
    "                red.goto(screen_x, screen_y)\n",
    "                red.stamp()\n",
    "                path.append((screen_x, screen_y))\n",
    "\n",
    "\n",
    "- Reads the `grid1` and:\n",
    "  - Draws walls (white squares)\n",
    "  - Identifies walkable paths\n",
    "  - Marks start and end positions"
   ]
  },
  {
   "cell_type": "markdown",
   "id": "118407f9",
   "metadata": {},
   "source": [
    "##  Initialization & Execution"
   ]
  },
  {
   "cell_type": "code",
   "execution_count": null,
   "id": "e3ba1cab",
   "metadata": {},
   "outputs": [],
   "source": [
    "maze = Maze()\n",
    "red = Red()\n",
    "...\n",
    "\n",
    "\n",
    "- Initializes all turtles.\n",
    "- Collects wall and path data.\n",
    "- Asks the user to choose between `'greedy'` or `'astar'`."
   ]
  },
  {
   "cell_type": "markdown",
   "id": "6fb2ab11",
   "metadata": {},
   "source": [
    "### Summary\n",
    "\n",
    "This code:\n",
    "- Loads a maze from a grid,\n",
    "- Uses a pathfinding algorithm (Greedy or A*),\n",
    "- Animates the search process and solution using Turtle graphics."
   ]
  }
 ],
 "metadata": {
  "language_info": {
   "name": "python"
  }
 },
 "nbformat": 4,
 "nbformat_minor": 5
}
