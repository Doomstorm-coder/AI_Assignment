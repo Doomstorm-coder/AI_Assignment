{
 "cells": [
  {
   "cell_type": "markdown",
   "metadata": {},
   "source": [
    "# 🎮 Tic-Tac-Toe with Minimax AI\n",
    "\n",
    "This notebook demonstrates a complete AI-based Tic-Tac-Toe game using the Minimax algorithm with alpha-beta pruning, as well as adjustable difficulty and testable game logic.\n",
    "\n",
    "## References\n",
    "- [GeeksforGeeks: Minimax Algorithm](https://www.geeksforgeeks.org/minimax-algorithm-in-game-theory-set-1-introduction/)\n",
    "- [YouTube: Coding Train - Tic-Tac-Toe Minimax](https://www.youtube.com/watch?v=trKjYdBASyQ)\n",
    "- [The Coding Train: Tic-Tac-Toe Minimax](https://thecodingtrain.com/challenges/154-tic-tac-toe-minimax)\n",
    "- [DataCamp: Minimax AI in Python](https://www.datacamp.com/tutorial/minimax-algorithm-for-ai-in-python)\n",
    "- [Real Python: Tic-Tac-Toe AI](https://realpython.com/tic-tac-toe-ai-python/)\n",
    "- [Interface In Game](https://interfaceingame.com)\n",
    "- [Flask](https://flask.palletsprojects.com/en/stable/)\n"
   ]
  },
  {
   "cell_type": "markdown",
   "metadata": {},
   "source": [
    "## 1️⃣ game.py\n",
    "\n",
    "### TicTacToe Class\n",
    "This class implements the full logic for playing a game of Tic-Tac-Toe, including:\n",
    "\n",
    "- Game state management\n",
    "\n",
    "- Move validation\n",
    "\n",
    "- Winner checking\n",
    "\n",
    "- AI opponent using the Minimax algorithm with difficulty levels"
   ]
  },
  {
   "cell_type": "code",
   "execution_count": null,
   "metadata": {},
   "outputs": [],
   "source": [
    "class TicTacToe:"
   ]
  },
  {
   "cell_type": "markdown",
   "metadata": {},
   "source": [
    "### __init__ Method\n",
    "Initializes a new game with default settings.\n",
    "\n",
    "- board: a list of 9 strings (\" \") representing the 3x3 grid\n",
    "\n",
    "- current_player: the player whose turn it is, either \"X\" or \"O\"\n",
    "\n",
    "- difficulty: the AI's difficulty level, defaulting to \"impossible\" (optimal)\n",
    "\n",
    "- game_mode: set to \"human_vs_ai\"; could be extended\n",
    "\n",
    "- scores: keeps track of wins for \"X\", \"O\", and ties"
   ]
  },
  {
   "cell_type": "code",
   "execution_count": null,
   "metadata": {},
   "outputs": [],
   "source": [
    "    def __init__(self):\n",
    "        self.board = [\" \" for _ in range(9)]\n",
    "        self.current_player = \"X\"\n",
    "        self.difficulty = \"impossible\"  \n",
    "        self.game_mode = \"human_vs_ai\"  \n",
    "        self.scores = {\"X\": 0, \"O\": 0, \"tie\": 0}"
   ]
  },
  {
   "cell_type": "markdown",
   "metadata": {},
   "source": [
    "### available_moves Method\n",
    "Returns all unoccupied positions on the board.\n",
    "\n",
    "Uses enumerate() to check each position\n",
    "\n",
    "Returns a list of indexes (0–8) where the board has \" \" (empty)"
   ]
  },
  {
   "cell_type": "code",
   "execution_count": null,
   "metadata": {},
   "outputs": [],
   "source": [
    "    def available_moves(self):\n",
    "        return [i for i, spot in enumerate(self.board) if spot == \" \"]"
   ]
  },
  {
   "cell_type": "markdown",
   "metadata": {},
   "source": [
    "### make_move(position) Method\n",
    "Attempts to place the current player’s mark at the given position.\n",
    "\n",
    "- Checks if the position is empty\n",
    "\n",
    "- If valid, places the current player's mark\n",
    "\n",
    "- Switches turn to the other player\n",
    "\n",
    "- Returns True if move was made, else False"
   ]
  },
  {
   "cell_type": "code",
   "execution_count": null,
   "metadata": {},
   "outputs": [],
   "source": [
    "    def make_move(self, position):\n",
    "        if self.board[position] == \" \":\n",
    "            self.board[position] = self.current_player\n",
    "            self.current_player = \"O\" if self.current_player == \"X\" else \"X\"\n",
    "            return True\n",
    "        return False"
   ]
  },
  {
   "cell_type": "markdown",
   "metadata": {},
   "source": [
    "### check_winner Method\n",
    "Checks whether the game has a winner or ended in a tie.\n",
    "\n",
    "- Defines all 8 possible win conditions (rows, columns, diagonals)\n",
    "\n",
    "- Checks if any condition is fulfilled by the same player\n",
    "\n",
    "Returns:\n",
    "\n",
    "- A tuple like (\"X\", [0, 1, 2]) if a player won\n",
    "\n",
    "- (\"tie\", None) if board is full and no winner\n",
    "\n",
    "- (None, None) if game is still ongoing"
   ]
  },
  {
   "cell_type": "code",
   "execution_count": null,
   "metadata": {},
   "outputs": [],
   "source": [
    "    def check_winner(self):\n",
    "        winning_combinations = [\n",
    "            [0, 1, 2], [3, 4, 5], [6, 7, 8],  \n",
    "            [0, 3, 6], [1, 4, 7], [2, 5, 8],  \n",
    "            [0, 4, 8], [2, 4, 6]              \n",
    "        ]\n",
    "        \n",
    "        for combo in winning_combinations:\n",
    "            if self.board[combo[0]] != \" \" and self.board[combo[0]] == self.board[combo[1]] == self.board[combo[2]]:\n",
    "                return self.board[combo[0]], combo\n",
    "        \n",
    "        if \" \" not in self.board:\n",
    "            return \"tie\", None\n",
    "            \n",
    "        return None, None"
   ]
  },
  {
   "cell_type": "markdown",
   "metadata": {},
   "source": [
    "### minimax(depth, is_maximizing, alpha, beta) Method\n",
    "Implements the Minimax algorithm with alpha-beta pruning.\n",
    "\n",
    "- depth: the level of recursion (helps prioritize quicker wins)\n",
    "\n",
    "- is_maximizing: True if it's X's turn (the maximizing player)\n",
    "\n",
    "- alpha: best score the maximizer can guarantee so far\n",
    "\n",
    "- beta: best score the minimizer can guarantee so far\n",
    "\n",
    "Returns an integer score:\n",
    "\n",
    "- +10 - depth if X wins\n",
    "\n",
    "- -10 + depth if O wins\n",
    "\n",
    "- 0 for a tie\n",
    "\n",
    "Also supports adjustable difficulty:\n",
    "\n",
    "- If difficulty is not \"impossible\", adds random noise to decision-making to make AI easier to beat."
   ]
  },
  {
   "cell_type": "code",
   "execution_count": 1,
   "metadata": {},
   "outputs": [],
   "source": [
    "    def minimax(self, depth, is_maximizing, alpha=float('-inf'), beta=float('inf')):\n",
    "        result, _ = self.check_winner()\n",
    "        \n",
    "        if result == \"X\":\n",
    "            return 10 - depth\n",
    "        elif result == \"O\":\n",
    "            return -10 + depth\n",
    "        elif result == \"tie\":\n",
    "            return 0\n",
    "            \n",
    "        if self.difficulty != \"impossible\" and depth == 0:\n",
    "            import random\n",
    "            if self.difficulty == \"easy\" and random.random() < 0.7:\n",
    "                return random.randint(-5, 5)\n",
    "            elif self.difficulty == \"medium\" and random.random() < 0.4:\n",
    "                return random.randint(-5, 5)\n",
    "        \n",
    "        if is_maximizing:\n",
    "            best_score = float('-inf')\n",
    "            for move in self.available_moves():\n",
    "                self.board[move] = \"X\"\n",
    "                score = self.minimax(depth + 1, False, alpha, beta)\n",
    "                self.board[move] = \" \"\n",
    "                best_score = max(score, best_score)\n",
    "                alpha = max(alpha, best_score)\n",
    "                if beta <= alpha:\n",
    "                    break\n",
    "            return best_score\n",
    "        else:\n",
    "            best_score = float('inf')\n",
    "            for move in self.available_moves():\n",
    "                self.board[move] = \"O\"\n",
    "                score = self.minimax(depth + 1, True, alpha, beta)\n",
    "                self.board[move] = \" \"\n",
    "                best_score = min(score, best_score)\n",
    "                beta = min(beta, best_score)\n",
    "                if beta <= alpha:\n",
    "                    break\n",
    "            return best_score"
   ]
  },
  {
   "cell_type": "markdown",
   "metadata": {},
   "source": [
    "### get_best_move Method\n",
    "Chooses the best move for the current player using Minimax.\n",
    "\n",
    "- Iterates through all available moves\n",
    "\n",
    "- Simulates each move temporarily\n",
    "  \n",
    "- Uses minimax to evaluate the move\n",
    "\n",
    "- Keeps track of the best move based on score\n",
    "\n",
    "- Restores the board after each simulation\n",
    "\n",
    "- Returns the optimal move's index"
   ]
  },
  {
   "cell_type": "code",
   "execution_count": null,
   "metadata": {},
   "outputs": [],
   "source": [
    "    def get_best_move(self):\n",
    "        best_score = float('-inf') if self.current_player == \"X\" else float('inf')\n",
    "        best_move = None\n",
    "        \n",
    "        for move in self.available_moves():\n",
    "            self.board[move] = self.current_player\n",
    "            if self.current_player == \"X\":\n",
    "                score = self.minimax(0, False)\n",
    "                if score > best_score:\n",
    "                    best_score = score\n",
    "                    best_move = move\n",
    "            else:\n",
    "                score = self.minimax(0, True)\n",
    "                if score < best_score:\n",
    "                    best_score = score\n",
    "                    best_move = move\n",
    "            self.board[move] = \" \"\n",
    "            \n",
    "        return best_move"
   ]
  },
  {
   "cell_type": "markdown",
   "metadata": {},
   "source": [
    "### reset_board Method\n",
    "Resets the board to its initial empty state.\n",
    "\n",
    "- Sets self.board to 9 empty spaces\n",
    "\n",
    "- Useful when starting a new game without creating a new object"
   ]
  },
  {
   "cell_type": "code",
   "execution_count": null,
   "metadata": {},
   "outputs": [],
   "source": [
    "    def reset_board(self):\n",
    "        self.board = [\" \" for _ in range(9)]"
   ]
  },
  {
   "cell_type": "markdown",
   "metadata": {},
   "source": [
    "## 2️⃣ app.py\n",
    "\n",
    "### Flask App\n",
    "This file sets up the Flask web server and connects the user interface with the backend TicTacToe logic. It handles HTTP requests, processes game moves, and returns updated game states in JSON format."
   ]
  },
  {
   "cell_type": "markdown",
   "metadata": {},
   "source": [
    "### Import Statements\n",
    "\n",
    "- Flask: Web framework used to build the backend server.\n",
    "\n",
    "-  render_template: Renders HTML templates (like index.html).\n",
    "\n",
    "- request: Handles incoming data from the frontend.\n",
    "\n",
    "- jsonify: Sends JSON responses.\n",
    "\n",
    "- TicTacToe: The main game logic imported from game.py."
   ]
  },
  {
   "cell_type": "code",
   "execution_count": null,
   "metadata": {},
   "outputs": [],
   "source": [
    "from flask import Flask, render_template, request, jsonify\n",
    "from game import TicTacToe"
   ]
  },
  {
   "cell_type": "markdown",
   "metadata": {},
   "source": [
    "### App Initialization\n",
    "\n",
    "- app: Initializes the Flask application.\n",
    "\n",
    "- game: Creates a single global instance of the TicTacToe game."
   ]
  },
  {
   "cell_type": "code",
   "execution_count": null,
   "metadata": {},
   "outputs": [],
   "source": [
    "app = Flask(__name__)\n",
    "game = TicTacToe()"
   ]
  },
  {
   "cell_type": "markdown",
   "metadata": {},
   "source": [
    "### index() Route\n",
    "- Renders the front-end HTML when the user opens the web app in the browser."
   ]
  },
  {
   "cell_type": "code",
   "execution_count": null,
   "metadata": {},
   "outputs": [],
   "source": [
    "@app.route('/')\n",
    "def index():\n",
    "    return render_template('index.html')"
   ]
  },
  {
   "cell_type": "markdown",
   "metadata": {},
   "source": [
    "### /make_move Route\n",
    "\n",
    "- Handles player move submissions.\n",
    "\n",
    "- Validates and applies the move.\n",
    "\n",
    "- Checks for a winner.\n",
    "\n",
    "- If it's AI's turn next, the AI makes its move.\n",
    "\n",
    "- Responds with the new board, game status, and scores."
   ]
  },
  {
   "cell_type": "code",
   "execution_count": null,
   "metadata": {},
   "outputs": [],
   "source": [
    "@app.route('/make_move', methods=['POST'])\n",
    "def make_move():\n",
    "    data = request.get_json()\n",
    "    position = data.get('position')\n",
    "    \n",
    "    if game.make_move(position):\n",
    "        winner, winning_combo = game.check_winner()\n",
    "        \n",
    "        if winner:\n",
    "            update_scores(winner)\n",
    "            return jsonify({\n",
    "                'board': game.board,\n",
    "                'currentPlayer': game.current_player,\n",
    "                'gameOver': True,\n",
    "                'winner': winner,\n",
    "                'winningCombo': winning_combo,\n",
    "                'scores': game.scores\n",
    "            })\n",
    "            \n",
    "        if game.game_mode == \"human_vs_ai\":\n",
    "            ai_position = game.get_best_move()\n",
    "            game.make_move(ai_position)\n",
    "            winner, winning_combo = game.check_winner()\n",
    "            \n",
    "            if winner:\n",
    "                update_scores(winner)\n",
    "                \n",
    "            return jsonify({\n",
    "                'board': game.board,\n",
    "                'currentPlayer': game.current_player,\n",
    "                'gameOver': winner is not None,\n",
    "                'winner': winner,\n",
    "                'winningCombo': winning_combo,\n",
    "                'scores': game.scores\n",
    "            })\n",
    "    \n",
    "    return jsonify({\n",
    "        'board': game.board,\n",
    "        'currentPlayer': game.current_player,\n",
    "        'gameOver': False,\n",
    "        'winner': None,\n",
    "        'scores': game.scores\n",
    "    })"
   ]
  },
  {
   "cell_type": "markdown",
   "metadata": {},
   "source": [
    "### /ai_vs_ai Route\n",
    "\n",
    "- Runs a complete AI vs AI match.\n",
    "\n",
    "- Resets the board and alternates moves between AI players.\n",
    "\n",
    "- Collects move history.\n",
    "\n",
    "- Ends when a winner or tie is determined.\n",
    "\n",
    "- Returns full match data."
   ]
  },
  {
   "cell_type": "code",
   "execution_count": null,
   "metadata": {},
   "outputs": [],
   "source": [
    "@app.route('/ai_vs_ai', methods=['POST'])\n",
    "def ai_vs_ai():\n",
    "    game.reset_board()\n",
    "    game.game_mode = \"ai_vs_ai\"\n",
    "    \n",
    "    moves_history = []\n",
    "    \n",
    "    while True:\n",
    "        ai_position = game.get_best_move()\n",
    "        game.make_move(ai_position)\n",
    "        moves_history.append({\n",
    "            'position': ai_position,\n",
    "            'player': \"X\" if game.current_player == \"O\" else \"O\"\n",
    "        })\n",
    "        \n",
    "        winner, winning_combo = game.check_winner()\n",
    "        if winner:\n",
    "            update_scores(winner)\n",
    "            break\n",
    "    \n",
    "    return jsonify({\n",
    "        'board': game.board,\n",
    "        'moves': moves_history,\n",
    "        'gameOver': True,\n",
    "        'winner': winner,\n",
    "        'winningCombo': winning_combo,\n",
    "        'scores': game.scores\n",
    "    })"
   ]
  },
  {
   "cell_type": "markdown",
   "metadata": {},
   "source": [
    "###  /set_game_options Route\n",
    "- Sets game mode (e.g., human vs AI or AI vs AI).\n",
    "\n",
    "- Sets difficulty level.\n",
    "\n",
    "- Sets which player goes first.\n",
    "\n",
    "- Starts the game with an AI move if needed."
   ]
  },
  {
   "cell_type": "code",
   "execution_count": null,
   "metadata": {},
   "outputs": [],
   "source": [
    "@app.route('/set_game_options', methods=['POST'])\n",
    "def set_game_options():\n",
    "    data = request.get_json()\n",
    "    game.game_mode = data.get('gameMode', 'human_vs_ai')\n",
    "    game.difficulty = data.get('difficulty', 'impossible')\n",
    "    player_choice = data.get('playerChoice', 'X')\n",
    "    \n",
    "    game.reset_board()\n",
    "    \n",
    "    if game.game_mode == \"human_vs_ai\" and player_choice == \"O\":\n",
    "        game.current_player = \"X\"\n",
    "        ai_position = game.get_best_move()\n",
    "        game.make_move(ai_position)\n",
    "    else:\n",
    "        game.current_player = \"X\"\n",
    "    \n",
    "    return jsonify({\n",
    "        'board': game.board,\n",
    "        'currentPlayer': game.current_player,\n",
    "        'gameOver': False,\n",
    "        'winner': None,\n",
    "        'scores': game.scores\n",
    "    })"
   ]
  },
  {
   "cell_type": "markdown",
   "metadata": {},
   "source": [
    "### /reset_game Route\n",
    "- Resets the game board to its initial state.\n",
    "\n",
    "- Responds with an empty board and default game values."
   ]
  },
  {
   "cell_type": "code",
   "execution_count": null,
   "metadata": {},
   "outputs": [],
   "source": [
    "@app.route('/reset_game', methods=['POST'])\n",
    "def reset_game():\n",
    "    game.reset_board()\n",
    "    return jsonify({\n",
    "        'board': game.board,\n",
    "        'currentPlayer': game.current_player,\n",
    "        'gameOver': False,\n",
    "        'winner': None,\n",
    "        'scores': game.scores\n",
    "    })"
   ]
  },
  {
   "cell_type": "markdown",
   "metadata": {},
   "source": [
    "### update_scores() Function\n",
    "- Updates the global score tracker (X, O, or tie) depending on who wins the round."
   ]
  },
  {
   "cell_type": "code",
   "execution_count": null,
   "metadata": {},
   "outputs": [],
   "source": [
    "def update_scores(winner):\n",
    "    if winner == \"tie\":\n",
    "        game.scores[\"tie\"] += 1\n",
    "    else:\n",
    "        game.scores[winner] += 1\n",
    "\n",
    "if __name__ == '__main__':\n",
    "    app.run(debug=True)"
   ]
  },
  {
   "cell_type": "markdown",
   "metadata": {},
   "source": [
    "## Test Cases: Verifying Game Logic\n",
    "\n",
    "Below we test the core logic: board initialization, move making, winner/tie detection, and board reset.\n"
   ]
  },
  {
   "cell_type": "code",
   "execution_count": null,
   "metadata": {},
   "outputs": [],
   "source": [
    "game = TicTacToe()\n",
    "print(\"Initial Board:\", game.board)\n",
    "game.make_move(0)\n",
    "print(\"After X at 0:\", game.board)\n",
    "game.make_move(1)\n",
    "print(\"After O at 1:\", game.board)\n",
    "game.board = [\"X\", \"X\", \"X\", \"O\", \"O\", \" \", \" \", \" \", \" \"]\n",
    "winner, combo = game.check_winner()\n",
    "print(\"Winner:\", winner, \"Winning combo:\", combo)\n",
    "game.board = [\"X\", \"O\", \"X\", \"O\", \"X\", \"O\", \"O\", \"X\", \"O\"]\n",
    "winner, combo = game.check_winner()\n",
    "print(\"Winner:\", winner, \"Winning combo:\", combo)\n",
    "game.reset_board()\n",
    "print(\"After reset:\", game.board)\n"
   ]
  },
  {
   "cell_type": "markdown",
   "metadata": {},
   "source": [
    "## Minimax AI Demo: AI vs AI Game\n",
    "\n",
    "Here we run a full game between two AIs (both using Minimax) and display the board after each move. This demonstrates the AI's ability to play optimally.\n"
   ]
  },
  {
   "cell_type": "code",
   "execution_count": null,
   "metadata": {},
   "outputs": [],
   "source": [
    "ai_game = TicTacToe()\n",
    "ai_game.difficulty = \"impossible\"\n",
    "ai_game.game_mode = \"ai_vs_ai\"\n",
    "ai_game.reset_board()\n",
    "moves = []\n",
    "while True:\n",
    "    move = ai_game.get_best_move()\n",
    "    ai_game.make_move(move)\n",
    "    moves.append((move, ai_game.board.copy()))\n",
    "    winner, combo = ai_game.check_winner()\n",
    "    if winner:\n",
    "        break\n",
    "for idx, (move, board) in enumerate(moves):\n",
    "    print(f\"Move {idx+1}: {move}\")\n",
    "    print(board[0:3])\n",
    "    print(board[3:6])\n",
    "    print(board[6:9])\n",
    "    print()\n",
    "print(f\"Game Result: {winner}\")\n"
   ]
  },
  {
   "cell_type": "markdown",
   "metadata": {},
   "source": [
    "## Conclusion\n",
    "\n",
    "- The Minimax algorithm enables the AI to play Tic-Tac-Toe optimally (it hardly loses at \"impossible\" difficulty).\n",
    "- The game logic is modular and testable, supporting various game modes and difficulties."
   ]
  }
 ],
 "metadata": {
  "kernelspec": {
   "display_name": "Python 3 (ipykernel)",
   "language": "python",
   "name": "python3"
  },
  "language_info": {
   "codemirror_mode": {
    "name": "ipython",
    "version": 3
   },
   "file_extension": ".py",
   "mimetype": "text/x-python",
   "name": "python",
   "nbconvert_exporter": "python",
   "pygments_lexer": "ipython3",
   "version": "3.12.4"
  }
 },
 "nbformat": 4,
 "nbformat_minor": 4
}
